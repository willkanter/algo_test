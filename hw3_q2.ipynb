{
 "cells": [
  {
   "cell_type": "markdown",
   "id": "6dd3f63b",
   "metadata": {},
   "source": [
    "# Knapsack Problem (duplicates allowed)"
   ]
  },
  {
   "cell_type": "code",
   "execution_count": 1,
   "id": "f4e1a5c5",
   "metadata": {},
   "outputs": [],
   "source": [
    "from tqdm import trange"
   ]
  },
  {
   "cell_type": "code",
   "execution_count": 2,
   "id": "25e46144",
   "metadata": {},
   "outputs": [],
   "source": [
    "v = [2, 3, 5, 8, 13, 21, 34, 55, 89, 144]\n",
    "w = [2, 2, 3, 4, 7, 12, 20, 33, 54, 88]"
   ]
  },
  {
   "cell_type": "code",
   "execution_count": 3,
   "id": "9d41fe23",
   "metadata": {},
   "outputs": [],
   "source": [
    "def knapsack_with_dups(values: list, weights: list, W: int, verbose: bool = False):\n",
    "    C = [0] * (W + 1)\n",
    "    # This is for reconstructing the choices, list of lists to track\n",
    "    # choices made at each step\n",
    "    choices = [()] * (W + 1)\n",
    "    iter_ = trange(W + 1) if verbose else range(W + 1)\n",
    "    for w in iter_:\n",
    "        # recurrence, base case - set the current value to previous solution's\n",
    "        if w > 0:\n",
    "            C[w] = C[w-1]\n",
    "        else:\n",
    "            C[w] = 0\n",
    "        for i, v_i in enumerate(values):\n",
    "            if weights[i] <= w:\n",
    "                # recurrence, inductive - if the value of the previous weight is less\n",
    "                # than that of some other combination of items, replace it\n",
    "                # reconstruction - point the choice to the index of the previous\n",
    "                # solution while adding the new item\n",
    "                new_val = v_i + C[w - weights[i]]\n",
    "                if C[w] < new_val: # solve subproblem\n",
    "                    C[w] = new_val\n",
    "                    prev_ind = w - weights[i]\n",
    "                    choices[w] = (prev_ind, i)\n",
    "                else:\n",
    "                    # if a choice has not been made for this weight already\n",
    "                    # then use the previous weights' choice for now.\n",
    "                    if w > 0:\n",
    "                        if not choices[w]:\n",
    "                            temp = choices[w-1]\n",
    "                            choices[w] = temp\n",
    "                    else:\n",
    "                        choices[w] = (None, (0,0))\n",
    "                    \n",
    "    # reconstruction - each tuple has an index to the previous solution\n",
    "    # and an index in the values/weights array to reconstruct all the choices\n",
    "    reconstruct = []\n",
    "    reconstruct.append(choices[W])\n",
    "    set_of_items = []\n",
    "    while(reconstruct):\n",
    "        next_it, val_ind = reconstruct.pop()\n",
    "        set_of_items.append((weights[val_ind], values[val_ind]))\n",
    "        if next_it:\n",
    "            reconstruct.append(choices[next_it])\n",
    "        else:\n",
    "            break\n",
    "    # Compute the final solution - return the value at W\n",
    "    return C[W], set_of_items"
   ]
  },
  {
   "cell_type": "markdown",
   "id": "0f37cdaf",
   "metadata": {},
   "source": [
    " "
   ]
  },
  {
   "cell_type": "markdown",
   "id": "039803ab",
   "metadata": {},
   "source": [
    " "
   ]
  },
  {
   "cell_type": "markdown",
   "id": "ab65a130",
   "metadata": {},
   "source": [
    " "
   ]
  },
  {
   "cell_type": "markdown",
   "id": "b09c226c",
   "metadata": {},
   "source": [
    " "
   ]
  },
  {
   "cell_type": "markdown",
   "id": "148622af",
   "metadata": {},
   "source": [
    "## First input\n",
    "\n",
    "Weight for the first 5 digits of my student ID (10938) shown below, I reconstructed the choices and included discussion below."
   ]
  },
  {
   "cell_type": "code",
   "execution_count": 4,
   "id": "8a2e394d",
   "metadata": {},
   "outputs": [
    {
     "name": "stderr",
     "output_type": "stream",
     "text": [
      "100%|█████████████████████████████████| 10939/10939 [00:00<00:00, 454123.82it/s]"
     ]
    },
    {
     "name": "stdout",
     "output_type": "stream",
     "text": [
      "Maximum value with weight 10938: 21875\n"
     ]
    },
    {
     "name": "stderr",
     "output_type": "stream",
     "text": [
      "\n"
     ]
    }
   ],
   "source": [
    "val, choices_part1 = knapsack_with_dups(v, w, 10938, True)\n",
    "print(f\"Maximum value with weight 10938: {val}\")"
   ]
  },
  {
   "cell_type": "markdown",
   "id": "ec110c5c",
   "metadata": {},
   "source": [
    "## Second Input\n",
    "\n",
    "Weight for all 9 digits of my student ID (109388896) shown below, I reconstructed the choices and included discussion below."
   ]
  },
  {
   "cell_type": "code",
   "execution_count": 5,
   "id": "b576dcda",
   "metadata": {},
   "outputs": [
    {
     "name": "stderr",
     "output_type": "stream",
     "text": [
      "100%|█████████████████████████| 109388897/109388897 [02:59<00:00, 610581.54it/s]\n"
     ]
    },
    {
     "name": "stdout",
     "output_type": "stream",
     "text": [
      "Maximum value with weight 109388896: 218777792\n"
     ]
    }
   ],
   "source": [
    "val2, choices_part2 = knapsack_with_dups(v, w, 109388896, True)\n",
    "print(f\"Maximum value with weight 109388896: {val2}\")"
   ]
  },
  {
   "cell_type": "markdown",
   "id": "3f9b597f",
   "metadata": {},
   "source": [
    "# Bonus (reconstruct and report)\n",
    "\n",
    "Below I show the choices the knapsack algorithm made, and take its set to see what items it primarily chose. "
   ]
  },
  {
   "cell_type": "code",
   "execution_count": 6,
   "id": "4d47f1bb",
   "metadata": {},
   "outputs": [
    {
     "data": {
      "text/plain": [
       "[(2, 3),\n",
       " (4, 8),\n",
       " (4, 8),\n",
       " (4, 8),\n",
       " (4, 8),\n",
       " (4, 8),\n",
       " (4, 8),\n",
       " (4, 8),\n",
       " (4, 8),\n",
       " (4, 8),\n",
       " (4, 8),\n",
       " (4, 8),\n",
       " (4, 8),\n",
       " (4, 8),\n",
       " (4, 8),\n",
       " (4, 8),\n",
       " (4, 8),\n",
       " (4, 8),\n",
       " (4, 8),\n",
       " (4, 8),\n",
       " (4, 8),\n",
       " (4, 8),\n",
       " (4, 8),\n",
       " (4, 8),\n",
       " (4, 8),\n",
       " (4, 8),\n",
       " (4, 8),\n",
       " (4, 8),\n",
       " (4, 8),\n",
       " (4, 8),\n",
       " (4, 8),\n",
       " (4, 8),\n",
       " (4, 8),\n",
       " (4, 8),\n",
       " (4, 8),\n",
       " (4, 8),\n",
       " (4, 8),\n",
       " (4, 8),\n",
       " (4, 8),\n",
       " (4, 8),\n",
       " (4, 8),\n",
       " (4, 8),\n",
       " (4, 8),\n",
       " (4, 8),\n",
       " (4, 8),\n",
       " (4, 8),\n",
       " (4, 8),\n",
       " (4, 8),\n",
       " (4, 8),\n",
       " (4, 8)]"
      ]
     },
     "execution_count": 6,
     "metadata": {},
     "output_type": "execute_result"
    }
   ],
   "source": [
    "choices_part1[:50]"
   ]
  },
  {
   "cell_type": "code",
   "execution_count": 7,
   "id": "baa4c604",
   "metadata": {},
   "outputs": [
    {
     "data": {
      "text/plain": [
       "{(2, 3), (4, 8)}"
      ]
     },
     "execution_count": 7,
     "metadata": {},
     "output_type": "execute_result"
    }
   ],
   "source": [
    "set(choices_part1)"
   ]
  },
  {
   "cell_type": "code",
   "execution_count": 8,
   "id": "0199bec0",
   "metadata": {},
   "outputs": [
    {
     "data": {
      "text/plain": [
       "[(4, 8),\n",
       " (4, 8),\n",
       " (4, 8),\n",
       " (4, 8),\n",
       " (4, 8),\n",
       " (4, 8),\n",
       " (4, 8),\n",
       " (4, 8),\n",
       " (4, 8),\n",
       " (4, 8),\n",
       " (4, 8),\n",
       " (4, 8),\n",
       " (4, 8),\n",
       " (4, 8),\n",
       " (4, 8),\n",
       " (4, 8),\n",
       " (4, 8),\n",
       " (4, 8),\n",
       " (4, 8),\n",
       " (4, 8),\n",
       " (4, 8),\n",
       " (4, 8),\n",
       " (4, 8),\n",
       " (4, 8),\n",
       " (4, 8),\n",
       " (4, 8),\n",
       " (4, 8),\n",
       " (4, 8),\n",
       " (4, 8),\n",
       " (4, 8),\n",
       " (4, 8),\n",
       " (4, 8),\n",
       " (4, 8),\n",
       " (4, 8),\n",
       " (4, 8),\n",
       " (4, 8),\n",
       " (4, 8),\n",
       " (4, 8),\n",
       " (4, 8),\n",
       " (4, 8),\n",
       " (4, 8),\n",
       " (4, 8),\n",
       " (4, 8),\n",
       " (4, 8),\n",
       " (4, 8),\n",
       " (4, 8),\n",
       " (4, 8),\n",
       " (4, 8),\n",
       " (4, 8),\n",
       " (4, 8)]"
      ]
     },
     "execution_count": 8,
     "metadata": {},
     "output_type": "execute_result"
    }
   ],
   "source": [
    "choices_part2[:50]"
   ]
  },
  {
   "cell_type": "code",
   "execution_count": 9,
   "id": "d99c7648",
   "metadata": {},
   "outputs": [
    {
     "data": {
      "text/plain": [
       "{(4, 8)}"
      ]
     },
     "execution_count": 9,
     "metadata": {},
     "output_type": "execute_result"
    }
   ],
   "source": [
    "set(choices_part2)"
   ]
  },
  {
   "cell_type": "markdown",
   "id": "c0f89c90",
   "metadata": {},
   "source": [
    "I was terrified with this answer until I realized that the item that weighs 4 is the only item whose value is twice its weight. This meant that in all cases, the best option was to load up with as many of those weight-4 items, and top off with other items to reach capacity. My student ID is wholly divisible by 4, so it only selected the item of weight 4. \n",
    "\n",
    "You can see this if you pass a capacity such that $W \\% 4 >= 2$, shown below."
   ]
  },
  {
   "cell_type": "code",
   "execution_count": 10,
   "id": "9734f737",
   "metadata": {},
   "outputs": [
    {
     "name": "stdout",
     "output_type": "stream",
     "text": [
      "218 mod 4 = 2\n",
      "Value: 435\n",
      "Choices: [(2, 3), (4, 8), (4, 8), (4, 8), (4, 8), (4, 8), (4, 8), (4, 8), (4, 8), (4, 8), (4, 8), (4, 8), (4, 8), (4, 8), (4, 8), (4, 8), (4, 8), (4, 8), (4, 8), (4, 8), (4, 8), (4, 8), (4, 8), (4, 8), (4, 8), (4, 8), (4, 8), (4, 8), (4, 8), (4, 8), (4, 8), (4, 8), (4, 8), (4, 8), (4, 8), (4, 8), (4, 8), (4, 8), (4, 8), (4, 8), (4, 8), (4, 8), (4, 8), (4, 8), (4, 8), (4, 8), (4, 8), (4, 8), (4, 8), (4, 8), (4, 8), (4, 8), (4, 8), (4, 8), (4, 8)]\n",
      "Set of choices: {(2, 3), (4, 8)}\n"
     ]
    }
   ],
   "source": [
    "print(f\"218 mod 4 = {218 % 4}\")\n",
    "\n",
    "val, choices = knapsack_with_dups(v, w, 218)\n",
    "print(f\"Value: {val}\\nChoices: {choices}\\nSet of choices: {set(choices)}\")"
   ]
  },
  {
   "cell_type": "code",
   "execution_count": 11,
   "id": "f51f88f3",
   "metadata": {},
   "outputs": [
    {
     "name": "stdout",
     "output_type": "stream",
     "text": [
      "219 mod 4 = 3\n",
      "Value: 437\n",
      "Choices: [(3, 5), (4, 8), (4, 8), (4, 8), (4, 8), (4, 8), (4, 8), (4, 8), (4, 8), (4, 8), (4, 8), (4, 8), (4, 8), (4, 8), (4, 8), (4, 8), (4, 8), (4, 8), (4, 8), (4, 8), (4, 8), (4, 8), (4, 8), (4, 8), (4, 8), (4, 8), (4, 8), (4, 8), (4, 8), (4, 8), (4, 8), (4, 8), (4, 8), (4, 8), (4, 8), (4, 8), (4, 8), (4, 8), (4, 8), (4, 8), (4, 8), (4, 8), (4, 8), (4, 8), (4, 8), (4, 8), (4, 8), (4, 8), (4, 8), (4, 8), (4, 8), (4, 8), (4, 8), (4, 8), (4, 8)]\n",
      "Set of choices: {(4, 8), (3, 5)}\n"
     ]
    }
   ],
   "source": [
    "print(f\"219 mod 4 = {219 % 4}\")\n",
    "\n",
    "val, choices = knapsack_with_dups(v, w, 219)\n",
    "print(f\"Value: {val}\\nChoices: {choices}\\nSet of choices: {set(choices)}\")"
   ]
  }
 ],
 "metadata": {
  "kernelspec": {
   "display_name": "Python 3 (ipykernel)",
   "language": "python",
   "name": "python3"
  },
  "language_info": {
   "codemirror_mode": {
    "name": "ipython",
    "version": 3
   },
   "file_extension": ".py",
   "mimetype": "text/x-python",
   "name": "python",
   "nbconvert_exporter": "python",
   "pygments_lexer": "ipython3",
   "version": "3.9.13"
  }
 },
 "nbformat": 4,
 "nbformat_minor": 5
}
